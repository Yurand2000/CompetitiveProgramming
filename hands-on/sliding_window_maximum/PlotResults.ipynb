{
 "cells": [
  {
   "cell_type": "code",
   "execution_count": null,
   "id": "01b306a1-57e4-46ad-a485-a87c52f8ff54",
   "metadata": {},
   "outputs": [],
   "source": [
    "import sys\n",
    "import matplotlib.pyplot as plt\n",
    "\n",
    "#!{sys.executable} -m pip install seaborn\n",
    "#!{sys.executable} -m pip install pandas\n",
    "\n",
    "import seaborn as sns\n",
    "import pandas as pd"
   ]
  },
  {
   "cell_type": "code",
   "execution_count": null,
   "id": "48219cb3-e06a-44ee-8a43-ff5b7e474add",
   "metadata": {},
   "outputs": [],
   "source": [
    "result_path = \"results.csv\"\n",
    "results_df = pd.read_csv(result_path)"
   ]
  },
  {
   "cell_type": "code",
   "execution_count": null,
   "id": "48219cb3-e06a-44ee-8a43-ff5b7e474add",
   "metadata": {},
   "outputs": [],
   "source": [
    "result_path = \"results_ascending_order.csv\"\n",
    "results_df = pd.read_csv(result_path)"
   ]
  },
  {
   "cell_type": "code",
   "execution_count": null,
   "id": "48219cb3-e06a-44ee-8a43-ff5b7e474add",
   "metadata": {},
   "outputs": [],
   "source": [
    "result_path = \"results_descending_order.csv\"\n",
    "results_df = pd.read_csv(result_path)"
   ]
  },
  {
   "cell_type": "code",
   "execution_count": null,
   "id": "48219cb3-e06a-44ee-8a43-ff5b7e474add",
   "metadata": {},
   "outputs": [],
   "source": [
    "result_path = \"results_debug.csv\"\n",
    "results_df = pd.read_csv(result_path)"
   ]
  },
  {
   "cell_type": "code",
   "execution_count": null,
   "id": "48219cb3-e06a-44ee-8a43-ff5b7e474add",
   "metadata": {},
   "outputs": [],
   "source": [
    "result_path = \"results_release.csv\"\n",
    "results_df = pd.read_csv(result_path)"
   ]
  },
  {
   "cell_type": "code",
   "execution_count": null,
   "id": "48219cb3-e06a-44ee-8a43-ff5b7e474add",
   "metadata": {},
   "outputs": [],
   "source": [
    "result_path = \"results_native.csv\"\n",
    "results_df = pd.read_csv(result_path)"
   ]
  },
  {
   "cell_type": "code",
   "execution_count": null,
   "id": "bc479568-8cd0-410c-93ca-b4673b29431f",
   "metadata": {},
   "outputs": [],
   "source": [
    "results_df[(results_df.Method == \"Linear\") & (results_df.n == 32768)]"
   ]
  },
  {
   "cell_type": "code",
   "execution_count": null,
   "id": "ac6bf8de-c6f7-4f64-8612-d99cf7c20551",
   "metadata": {},
   "outputs": [],
   "source": [
    "results_df[(results_df.Method == \"Heap\") & (results_df.n == 32768)]"
   ]
  },
  {
   "cell_type": "code",
   "execution_count": null,
   "id": "6e9014c7",
   "metadata": {},
   "outputs": [],
   "source": [
    "results_df[(results_df.Method == \"BST\") & (results_df.n == 32768)]"
   ]
  },
  {
   "cell_type": "code",
   "execution_count": null,
   "id": "c8fabdbc",
   "metadata": {},
   "outputs": [],
   "source": [
    "results_df[(results_df.Method == \"BruteForce\") & (results_df.n == 32768)]"
   ]
  },
  {
   "cell_type": "code",
   "execution_count": null,
   "id": "a9e08ef6",
   "metadata": {},
   "outputs": [],
   "source": [
    "results_df[(results_df.Method == \"BruteForceIdiomatic\") & (results_df.n == 32768)]"
   ]
  },
  {
   "cell_type": "code",
   "execution_count": null,
   "id": "4a7d1a79-ab75-4df0-a520-ef0a4ef1b125",
   "metadata": {
    "tags": []
   },
   "outputs": [],
   "source": [
    "sns.set_style('darkgrid')\n",
    "sns.set_context('notebook')\n",
    "for curr_n in pd.unique(results_df['n']):\n",
    "    plt.title(f\"n = {curr_n}\")\n",
    "    curr_df = results_df[((results_df.Method == \"BruteForceIdiomatic\") | (results_df.Method == \"BruteForce\")) & (results_df.n == curr_n)]\n",
    "    ax = sns.scatterplot(x=\"k\", y=\"elapsed\", hue=\"Method\", data=curr_df)\n",
    "    ax.legend(bbox_to_anchor=(1.5, 1.05))\n",
    "    plt.show()"
   ]
  },
  {
   "cell_type": "code",
   "execution_count": null,
   "id": "4a7d1a79-ab75-4df0-a520-ef0a4ef1b125",
   "metadata": {
    "tags": []
   },
   "outputs": [],
   "source": [
    "sns.set_style('darkgrid')\n",
    "sns.set_context('notebook')\n",
    "for curr_n in pd.unique(results_df['n']):\n",
    "    plt.title(f\"n = {curr_n}\")\n",
    "    curr_df = results_df[results_df.n == curr_n]\n",
    "    ax = sns.scatterplot(x=\"k\", y=\"elapsed\", hue=\"Method\", data=curr_df)\n",
    "    ax.legend(bbox_to_anchor=(1.5, 1.05))\n",
    "    plt.show()"
   ]
  },
  {
   "cell_type": "code",
   "execution_count": null,
   "id": "4a7d1a79-ab75-4df0-a520-ef0a4ef1b125",
   "metadata": {
    "tags": []
   },
   "outputs": [],
   "source": [
    "sns.set_style('darkgrid')\n",
    "sns.set_context('notebook')\n",
    "for curr_n in pd.unique(results_df['n']):\n",
    "    plt.title(f\"n = {curr_n}\")\n",
    "    curr_df = results_df[(results_df.n == curr_n) & (results_df.k < 64)]\n",
    "    ax = sns.scatterplot(x=\"k\", y=\"elapsed\", hue=\"Method\", data=curr_df)\n",
    "    ax.legend(bbox_to_anchor=(1.5, 1.05))\n",
    "    plt.show()"
   ]
  },
  {
   "cell_type": "code",
   "execution_count": null,
   "id": "4a7d1a79-ab75-4df0-a520-ef0a4ef1b125",
   "metadata": {
    "tags": []
   },
   "outputs": [],
   "source": [
    "sns.set_style('darkgrid')\n",
    "sns.set_context('notebook')\n",
    "for curr_n in pd.unique(results_df['n']):\n",
    "    plt.title(f\"n = {curr_n}\")\n",
    "    curr_df = results_df[((results_df.Method == \"Linear\") | (results_df.Method == \"Heap\")) & (results_df.n == curr_n)]\n",
    "    ax = sns.scatterplot(x=\"k\", y=\"elapsed\", hue=\"Method\", data=curr_df)\n",
    "    ax.legend(bbox_to_anchor=(1.5, 1.05))\n",
    "    plt.show()"
   ]
  },
  {
   "cell_type": "code",
   "execution_count": null,
   "id": "4a7d1a79-ab75-4df0-a520-ef0a4ef1b125",
   "metadata": {
    "tags": []
   },
   "outputs": [],
   "source": [
    "sns.set_style('darkgrid')\n",
    "sns.set_context('notebook')\n",
    "for curr_k in pd.unique(results_df['k']):\n",
    "    if curr_k % 64 != 1:\n",
    "        continue\n",
    "\n",
    "    plt.title(f\"k = {curr_k}\")\n",
    "    curr_df = results_df[results_df.k == curr_k]\n",
    "    ax = sns.scatterplot(x=\"n\", y=\"elapsed\", hue=\"Method\", data=curr_df)\n",
    "    ax.legend(bbox_to_anchor=(1.5, 1.05))\n",
    "    plt.show()"
   ]
  }
 ],
 "metadata": {
  "kernelspec": {
   "display_name": "Python 3.10.7 64-bit",
   "language": "python",
   "name": "python3"
  },
  "language_info": {
   "codemirror_mode": {
    "name": "ipython",
    "version": 3
   },
   "file_extension": ".py",
   "mimetype": "text/x-python",
   "name": "python",
   "nbconvert_exporter": "python",
   "pygments_lexer": "ipython3",
   "version": "3.10.7"
  },
  "vscode": {
   "interpreter": {
    "hash": "8f1fd49ff58109f11ea0288f6bf2b59be35a46b9bd9bca5c4c68c9fb477908e6"
   }
  }
 },
 "nbformat": 4,
 "nbformat_minor": 5
}
